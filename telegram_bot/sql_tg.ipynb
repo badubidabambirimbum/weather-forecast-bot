{
 "cells": [
  {
   "cell_type": "code",
   "execution_count": 1,
   "metadata": {},
   "outputs": [],
   "source": [
    "import pymysql\n",
    "import psycopg2\n",
    "import pandas as pd\n",
    "from secret.auth_data import *\n",
    "import secret.auth_data_MySQL as mysql\n",
    "import telegram_constants as c\n",
    "import parsing_LTE as table\n",
    "\n",
    "import sys\n",
    "import os\n",
    "\n",
    "import parsing_LTE as table"
   ]
  },
  {
   "cell_type": "code",
   "execution_count": 20,
   "metadata": {},
   "outputs": [
    {
     "name": "stdout",
     "output_type": "stream",
     "text": [
      "successfully connected MySQL ...\n",
      "successfully connected postgreSQL ...\n"
     ]
    }
   ],
   "source": [
    "try:\n",
    "    connection_mysql = pymysql.connect(\n",
    "        host=mysql.host,\n",
    "        port=mysql.port,\n",
    "        user=mysql.user,\n",
    "        password=mysql.password,\n",
    "        database=mysql.database,\n",
    "        charset=\"utf8mb4\",\n",
    "        cursorclass=pymysql.cursors.DictCursor\n",
    "    )\n",
    "    print('successfully connected MySQL ...')\n",
    "except Exception as ex:\n",
    "    print(f\"Connection refused MySQL ... \\n{ex}\")\n",
    "\n",
    "try:\n",
    "    connection = psycopg2.connect(\n",
    "        host=host,\n",
    "        port=port,\n",
    "        user=user,\n",
    "        password=password,\n",
    "        database=database\n",
    "    )\n",
    "    print('successfully connected postgreSQL ...')\n",
    "except Exception as ex:\n",
    "    print(f\"Connection refused postgreSQL ... \\n{ex}\")"
   ]
  },
  {
   "cell_type": "code",
   "execution_count": 1,
   "metadata": {},
   "outputs": [
    {
     "ename": "NameError",
     "evalue": "name 'connection_mysql' is not defined",
     "output_type": "error",
     "traceback": [
      "\u001b[0;31m---------------------------------------------------------------------------\u001b[0m",
      "\u001b[0;31mNameError\u001b[0m                                 Traceback (most recent call last)",
      "Cell \u001b[0;32mIn[1], line 1\u001b[0m\n\u001b[0;32m----> 1\u001b[0m \u001b[43mconnection_mysql\u001b[49m\u001b[38;5;241m.\u001b[39mclose()\n",
      "\u001b[0;31mNameError\u001b[0m: name 'connection_mysql' is not defined"
     ]
    }
   ],
   "source": [
    "connection_mysql.close()"
   ]
  },
  {
   "cell_type": "code",
   "execution_count": 21,
   "metadata": {},
   "outputs": [
    {
     "name": "stdout",
     "output_type": "stream",
     "text": [
      "Данные успешно загружены в таблицу 'Krasnodar_GisMeteo'.\n",
      "Данные успешно загружены в таблицу 'Krasnodar_Yandex'.\n",
      "Данные успешно загружены в таблицу 'Moscow_GisMeteo'.\n",
      "Данные успешно загружены в таблицу 'Moscow_Yandex'.\n",
      "Данные успешно загружены в таблицу 'Ekaterinburg_GisMeteo'.\n",
      "Данные успешно загружены в таблицу 'Ekaterinburg_Yandex'.\n"
     ]
    }
   ],
   "source": [
    "try:\n",
    "    with connection.cursor() as cursor:\n",
    "\n",
    "        for city_key in c.SET_CITIES:\n",
    "            city_key = c.TRANSLATE_CITIES[city_key]\n",
    "            for type_key in c.SET_TYPES:\n",
    "                \n",
    "                with connection_mysql.cursor() as cursor_mysql:\n",
    "                    table_name = f\"{city_key}_{type_key}\"\n",
    "\n",
    "                    query = f\"SELECT * FROM {table_name} order by date;\"  # SQL-запрос\n",
    "\n",
    "                    cursor_mysql.execute(query)\n",
    "                    data = cursor_mysql.fetchall()\n",
    "                    \n",
    "                    df = pd.DataFrame(data)\n",
    "                    df.set_index('date', inplace=True)\n",
    "\n",
    "                # Создание таблицы (если она еще не создана)\n",
    "                table_name = f\"{city_key}_{type_key}\"\n",
    "                cursor.execute(f\"\"\"\n",
    "                    CREATE TABLE IF NOT EXISTS {table_name} (\n",
    "                        date DATE,\n",
    "                        day1 INT,\n",
    "                        day2 INT,\n",
    "                        day3 INT,\n",
    "                        day4 INT,\n",
    "                        day5 INT,\n",
    "                        day6 INT,\n",
    "                        day7 INT,\n",
    "                        day8 INT,\n",
    "                        day9 INT,\n",
    "                        day10 INT,\n",
    "                        night1 INT,\n",
    "                        night2 INT,\n",
    "                        night3 INT,\n",
    "                        night4 INT,\n",
    "                        night5 INT,\n",
    "                        night6 INT,\n",
    "                        night7 INT,\n",
    "                        night8 INT,\n",
    "                        night9 INT,\n",
    "                        night10 INT,\n",
    "                        weather1 VARCHAR(255),\n",
    "                        weather2 VARCHAR(255),\n",
    "                        weather3 VARCHAR(255),\n",
    "                        weather4 VARCHAR(255),\n",
    "                        weather5 VARCHAR(255),\n",
    "                        weather6 VARCHAR(255),\n",
    "                        weather7 VARCHAR(255),\n",
    "                        weather8 VARCHAR(255),\n",
    "                        weather9 VARCHAR(255),\n",
    "                        weather10 VARCHAR(255)\n",
    "                    );\n",
    "                \"\"\")\n",
    "\n",
    "                cursor.execute(f\"\"\"\n",
    "                    DELETE FROM {table_name}\n",
    "                \"\"\")\n",
    "\n",
    "                # cursor.execute(f\"\"\"\n",
    "                #     ALTER TABLE {table_name} CONVERT TO CHARACTER SET utf8mb4 COLLATE utf8mb4_unicode_ci;\n",
    "                # \"\"\")\n",
    "\n",
    "                # Загрузка данных в таблицу\n",
    "                for index, row in df.iterrows():\n",
    "                    cursor.execute(f\"\"\"\n",
    "                        INSERT INTO {table_name} (\n",
    "                                            date,\n",
    "                                            day1,day2,day3,day4,day5,day6,day7,day8,day9,day10,\n",
    "                                            night1,night2,night3,night4,night5,night6,night7,night8,night9,night10,\n",
    "                                            weather1,weather2,weather3,weather4,weather5,weather6,weather7,weather8,weather9,weather10)\n",
    "                        VALUES (%s, %s, %s, %s, %s, %s, %s, %s, %s, %s, %s, %s, %s, %s, %s, %s, %s, %s, %s, %s, %s, %s, %s, %s, %s, %s, %s, %s, %s, %s, %s);\n",
    "                    \"\"\", (index,*tuple(row)))  # Передаем значения в виде кортежа\n",
    "\n",
    "                # Сохранение изменений\n",
    "                connection.commit()\n",
    "\n",
    "                print(f\"Данные успешно загружены в таблицу '{table_name}'.\")\n",
    "\n",
    "finally:\n",
    "    connection.close()\n",
    "    connection_mysql.close()"
   ]
  }
 ],
 "metadata": {
  "kernelspec": {
   "display_name": ".venv",
   "language": "python",
   "name": "python3"
  },
  "language_info": {
   "codemirror_mode": {
    "name": "ipython",
    "version": 3
   },
   "file_extension": ".py",
   "mimetype": "text/x-python",
   "name": "python",
   "nbconvert_exporter": "python",
   "pygments_lexer": "ipython3",
   "version": "3.11.8"
  }
 },
 "nbformat": 4,
 "nbformat_minor": 2
}
