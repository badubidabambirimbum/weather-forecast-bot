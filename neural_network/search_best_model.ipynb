{
 "cells": [
  {
   "cell_type": "code",
   "execution_count": 1,
   "metadata": {},
   "outputs": [],
   "source": [
    "from sklearn.preprocessing import StandardScaler\n",
    "import numpy as np \n",
    "import pandas as pd \n",
    "import matplotlib.pyplot as plt\n",
    "import seaborn as sns\n",
    "from keras.models import Sequential\n",
    "from keras.layers import LSTM, Dense ,Dropout, Bidirectional, Input\n",
    "from keras.optimizers import Nadam\n",
    "from sklearn.preprocessing import MinMaxScaler\n",
    "from sklearn.model_selection import ParameterGrid\n",
    "from tqdm import tqdm\n",
    "from neural_network_functions import *"
   ]
  },
  {
   "cell_type": "code",
   "execution_count": 20,
   "metadata": {},
   "outputs": [],
   "source": [
    "pd.set_option('display.max_columns', None)\n",
    "pd.set_option('display.max_colwidth', None)"
   ]
  },
  {
   "cell_type": "code",
   "execution_count": 3,
   "metadata": {},
   "outputs": [],
   "source": [
    "model_params = ParameterGrid({\"units\": [15, 30, 60, 90, 150],\n",
    "                              \"n_timesteps\": [15, 30, 60],\n",
    "                              \"optimizer\": ['adam', 'rmsprop', 'nadam'],\n",
    "                              \"loss\": ['mean_squared_error', 'mean_absolute_error'],\n",
    "                              \"epochs\" : [100, 250, 500],\n",
    "                              \"batch_size\": [32, 64]})"
   ]
  },
  {
   "cell_type": "code",
   "execution_count": 4,
   "metadata": {},
   "outputs": [],
   "source": [
    "scaler = MinMaxScaler(feature_range=(0,1))"
   ]
  },
  {
   "cell_type": "code",
   "execution_count": 5,
   "metadata": {},
   "outputs": [
    {
     "data": {
      "text/html": [
       "<div>\n",
       "<style scoped>\n",
       "    .dataframe tbody tr th:only-of-type {\n",
       "        vertical-align: middle;\n",
       "    }\n",
       "\n",
       "    .dataframe tbody tr th {\n",
       "        vertical-align: top;\n",
       "    }\n",
       "\n",
       "    .dataframe thead th {\n",
       "        text-align: right;\n",
       "    }\n",
       "</style>\n",
       "<table border=\"1\" class=\"dataframe\">\n",
       "  <thead>\n",
       "    <tr style=\"text-align: right;\">\n",
       "      <th></th>\n",
       "      <th>Среднняя t</th>\n",
       "      <th>Минимальная t</th>\n",
       "      <th>Максимальная t</th>\n",
       "      <th>Суточная сумма осадков</th>\n",
       "      <th>Глубина снега</th>\n",
       "      <th>Скорость ветра</th>\n",
       "      <th>Среднее давление hPa</th>\n",
       "      <th>Относительная влажность в %</th>\n",
       "    </tr>\n",
       "    <tr>\n",
       "      <th>time</th>\n",
       "      <th></th>\n",
       "      <th></th>\n",
       "      <th></th>\n",
       "      <th></th>\n",
       "      <th></th>\n",
       "      <th></th>\n",
       "      <th></th>\n",
       "      <th></th>\n",
       "    </tr>\n",
       "  </thead>\n",
       "  <tbody>\n",
       "    <tr>\n",
       "      <th>2019-05-24</th>\n",
       "      <td>13.6</td>\n",
       "      <td>8.9</td>\n",
       "      <td>17.5</td>\n",
       "      <td>0.0</td>\n",
       "      <td>0.0</td>\n",
       "      <td>4.7</td>\n",
       "      <td>1012.7</td>\n",
       "      <td>64.125</td>\n",
       "    </tr>\n",
       "    <tr>\n",
       "      <th>2019-05-25</th>\n",
       "      <td>15.6</td>\n",
       "      <td>11.8</td>\n",
       "      <td>18.9</td>\n",
       "      <td>0.3</td>\n",
       "      <td>0.0</td>\n",
       "      <td>4.6</td>\n",
       "      <td>1010.2</td>\n",
       "      <td>56.625</td>\n",
       "    </tr>\n",
       "    <tr>\n",
       "      <th>2019-05-26</th>\n",
       "      <td>18.1</td>\n",
       "      <td>14.3</td>\n",
       "      <td>23.6</td>\n",
       "      <td>0.0</td>\n",
       "      <td>0.0</td>\n",
       "      <td>2.4</td>\n",
       "      <td>1004.7</td>\n",
       "      <td>62.375</td>\n",
       "    </tr>\n",
       "    <tr>\n",
       "      <th>2019-05-27</th>\n",
       "      <td>16.7</td>\n",
       "      <td>12.5</td>\n",
       "      <td>21.2</td>\n",
       "      <td>0.0</td>\n",
       "      <td>0.0</td>\n",
       "      <td>4.7</td>\n",
       "      <td>1008.5</td>\n",
       "      <td>52.500</td>\n",
       "    </tr>\n",
       "    <tr>\n",
       "      <th>2019-05-28</th>\n",
       "      <td>22.0</td>\n",
       "      <td>15.9</td>\n",
       "      <td>28.4</td>\n",
       "      <td>0.0</td>\n",
       "      <td>0.0</td>\n",
       "      <td>2.9</td>\n",
       "      <td>1014.1</td>\n",
       "      <td>48.250</td>\n",
       "    </tr>\n",
       "  </tbody>\n",
       "</table>\n",
       "</div>"
      ],
      "text/plain": [
       "            Среднняя t  Минимальная t  Максимальная t  Суточная сумма осадков  \\\n",
       "time                                                                            \n",
       "2019-05-24        13.6            8.9            17.5                     0.0   \n",
       "2019-05-25        15.6           11.8            18.9                     0.3   \n",
       "2019-05-26        18.1           14.3            23.6                     0.0   \n",
       "2019-05-27        16.7           12.5            21.2                     0.0   \n",
       "2019-05-28        22.0           15.9            28.4                     0.0   \n",
       "\n",
       "            Глубина снега  Скорость ветра  Среднее давление hPa  \\\n",
       "time                                                              \n",
       "2019-05-24            0.0             4.7                1012.7   \n",
       "2019-05-25            0.0             4.6                1010.2   \n",
       "2019-05-26            0.0             2.4                1004.7   \n",
       "2019-05-27            0.0             4.7                1008.5   \n",
       "2019-05-28            0.0             2.9                1014.1   \n",
       "\n",
       "            Относительная влажность в %  \n",
       "time                                     \n",
       "2019-05-24                       64.125  \n",
       "2019-05-25                       56.625  \n",
       "2019-05-26                       62.375  \n",
       "2019-05-27                       52.500  \n",
       "2019-05-28                       48.250  "
      ]
     },
     "execution_count": 5,
     "metadata": {},
     "output_type": "execute_result"
    }
   ],
   "source": [
    "df = pd.read_csv('dataset_days.csv', sep=',', index_col=\"time\")\n",
    "df.head()"
   ]
  },
  {
   "cell_type": "code",
   "execution_count": 6,
   "metadata": {},
   "outputs": [],
   "source": [
    "temp = df.iloc[:,:1].values\n",
    "train, test, size = create_train_test_data(temp, 70)"
   ]
  },
  {
   "cell_type": "code",
   "execution_count": 7,
   "metadata": {},
   "outputs": [],
   "source": [
    "train_scal = scaler.fit_transform(train)\n",
    "test_scal = scaler.transform(test)"
   ]
  },
  {
   "cell_type": "code",
   "execution_count": 22,
   "metadata": {},
   "outputs": [],
   "source": [
    "n_features = 1\n",
    "n_forecast = 10"
   ]
  },
  {
   "cell_type": "code",
   "execution_count": 18,
   "metadata": {},
   "outputs": [],
   "source": [
    "# d = {\"params\": [],\n",
    "# \"day1\": [],\n",
    "# \"day2\": [],\n",
    "# \"day3\": [],\n",
    "# \"day4\": [],\n",
    "# \"day5\": [],\n",
    "# \"day6\": [],\n",
    "# \"day7\": [],\n",
    "# \"day8\": [],\n",
    "# \"day9\": [],\n",
    "# \"day10\": []}\n",
    "\n",
    "# df = pd.DataFrame(d)\n",
    "\n",
    "# df.to_csv(\"res_test_model.csv\", index=False)"
   ]
  },
  {
   "cell_type": "code",
   "execution_count": 19,
   "metadata": {},
   "outputs": [
    {
     "data": {
      "text/html": [
       "<div>\n",
       "<style scoped>\n",
       "    .dataframe tbody tr th:only-of-type {\n",
       "        vertical-align: middle;\n",
       "    }\n",
       "\n",
       "    .dataframe tbody tr th {\n",
       "        vertical-align: top;\n",
       "    }\n",
       "\n",
       "    .dataframe thead th {\n",
       "        text-align: right;\n",
       "    }\n",
       "</style>\n",
       "<table border=\"1\" class=\"dataframe\">\n",
       "  <thead>\n",
       "    <tr style=\"text-align: right;\">\n",
       "      <th></th>\n",
       "      <th>params</th>\n",
       "      <th>day1</th>\n",
       "      <th>day2</th>\n",
       "      <th>day3</th>\n",
       "      <th>day4</th>\n",
       "      <th>day5</th>\n",
       "      <th>day6</th>\n",
       "      <th>day7</th>\n",
       "      <th>day8</th>\n",
       "      <th>day9</th>\n",
       "      <th>day10</th>\n",
       "    </tr>\n",
       "  </thead>\n",
       "  <tbody>\n",
       "  </tbody>\n",
       "</table>\n",
       "</div>"
      ],
      "text/plain": [
       "Empty DataFrame\n",
       "Columns: [params, day1, day2, day3, day4, day5, day6, day7, day8, day9, day10]\n",
       "Index: []"
      ]
     },
     "execution_count": 19,
     "metadata": {},
     "output_type": "execute_result"
    }
   ],
   "source": [
    "dataset = pd.read_csv('res_test_model.csv', sep=',')\n",
    "dataset.head()"
   ]
  },
  {
   "cell_type": "code",
   "execution_count": null,
   "metadata": {},
   "outputs": [],
   "source": [
    "for item in tqdm(model_params):\n",
    "\n",
    "    d = {\"params\": [],\n",
    "         \"day1\": [],\n",
    "         \"day2\": [],\n",
    "         \"day3\": [],\n",
    "         \"day4\": [],\n",
    "         \"day5\": [],\n",
    "         \"day6\": [],\n",
    "         \"day7\": [],\n",
    "         \"day8\": [],\n",
    "         \"day9\": [],\n",
    "         \"day10\": []}\n",
    "    \n",
    "    x_train, y_train = create_data(train_scal, item[\"n_timesteps\"], n_forecast, n_features)\n",
    "    x_test, y_test = create_data(test_scal, item[\"n_timesteps\"], n_forecast, n_features)\n",
    "    y_test = np.reshape(y_test, (y_test.shape[0], y_test.shape[1]))\n",
    "    y_test = scaler.inverse_transform(y_test)\n",
    "\n",
    "    model = create_model(x_train=x_train,\n",
    "                        n_forecast=n_forecast,\n",
    "                        units=item[\"units\"],\n",
    "                        n_features = n_features,\n",
    "                        n_timesteps=item[\"n_timesteps\"],\n",
    "                        optimizer=item[\"optimizer\"],\n",
    "                        loss=item[\"loss\"])\n",
    "    \n",
    "    model.fit(x_train, y_train, epochs=item[\"epochs\"], batch_size=item[\"batch_size\"], verbose=0)\n",
    "\n",
    "    predict = model.predict(x_test)\n",
    "\n",
    "    predict = np.reshape(predict, (predict.shape[0], predict.shape[1]))\n",
    "    predict = scaler.inverse_transform(predict)\n",
    "\n",
    "    d[\"params\"].append(item)\n",
    "    for i in range(n_forecast):\n",
    "        mae_day = np.mean(np.abs(y_test[:, i] - predict[:, i]))\n",
    "        d[f\"day{i+1}\"].append(mae_day)\n",
    "\n",
    "    df_item = pd.DataFrame(d)\n",
    "    dataset = pd.concat([dataset, df_item], axis=0)\n",
    "    dataset_sort = dataset.sort_values(by=[\"day1\", \"day2\", \"day3\", \"day4\", \"day5\", \"day6\", \"day7\", \"day8\", \"day9\", \"day10\"])\n",
    "    dataset_sort.to_csv('res_test_model.csv', index=False)"
   ]
  },
  {
   "cell_type": "code",
   "execution_count": null,
   "metadata": {},
   "outputs": [],
   "source": [
    "dataset['mean'] = dataset[['day1', 'day2', 'day3', 'day4', 'day5', 'day6', 'day7', 'day8', 'day9', 'day10']].mean(axis=1)"
   ]
  },
  {
   "cell_type": "code",
   "execution_count": null,
   "metadata": {},
   "outputs": [],
   "source": [
    "dataset.head()"
   ]
  },
  {
   "cell_type": "code",
   "execution_count": null,
   "metadata": {},
   "outputs": [],
   "source": [
    "dataset.to_csv(\"res_test_model.csv\", index=False)"
   ]
  }
 ],
 "metadata": {
  "kernelspec": {
   "display_name": "Python 3",
   "language": "python",
   "name": "python3"
  },
  "language_info": {
   "codemirror_mode": {
    "name": "ipython",
    "version": 3
   },
   "file_extension": ".py",
   "mimetype": "text/x-python",
   "name": "python",
   "nbconvert_exporter": "python",
   "pygments_lexer": "ipython3",
   "version": "3.11.9"
  }
 },
 "nbformat": 4,
 "nbformat_minor": 2
}
