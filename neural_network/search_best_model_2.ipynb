{
 "cells": [
  {
   "cell_type": "code",
   "execution_count": 1,
   "metadata": {},
   "outputs": [],
   "source": [
    "from sklearn.preprocessing import StandardScaler\n",
    "import numpy as np \n",
    "import pandas as pd \n",
    "import matplotlib.pyplot as plt\n",
    "import seaborn as sns\n",
    "from keras.models import Sequential\n",
    "from keras.layers import LSTM, Dense ,Dropout, Bidirectional, Input\n",
    "from keras.optimizers import Nadam\n",
    "from sklearn.preprocessing import MinMaxScaler\n",
    "from sklearn.model_selection import ParameterGrid\n",
    "from tqdm import tqdm"
   ]
  },
  {
   "cell_type": "code",
   "execution_count": 7,
   "metadata": {},
   "outputs": [],
   "source": [
    "pd.set_option('display.max_columns', None)\n",
    "pd.set_option('display.max_colwidth', None)"
   ]
  },
  {
   "cell_type": "code",
   "execution_count": 3,
   "metadata": {},
   "outputs": [],
   "source": [
    "def create_model(x_train, \n",
    "                 n_forecast=4, \n",
    "                 units=30, \n",
    "                 n_timesteps=30,\n",
    "                 optimizer='adam',\n",
    "                 loss='mean_squared_error',\n",
    "                 metrics='mae'):\n",
    "    regressor = Sequential()\n",
    "    \n",
    "    # Используем Input для явного задания формы входных данных\n",
    "    regressor.add(Input(shape=(x_train.shape[1], 1)))\n",
    "    \n",
    "    regressor.add(Bidirectional(LSTM(units=units, return_sequences=True)))\n",
    "    regressor.add(Dropout(0.2))\n",
    "    \n",
    "    regressor.add(LSTM(units=units, return_sequences=True))\n",
    "    regressor.add(Dropout(0.2))\n",
    "    \n",
    "    regressor.add(LSTM(units=units, return_sequences=True))\n",
    "    regressor.add(Dropout(0.2))\n",
    "    \n",
    "    regressor.add(LSTM(units=units))\n",
    "    regressor.add(Dropout(0.2))\n",
    "    \n",
    "    regressor.add(Dense(units=n_forecast, activation='linear'))\n",
    "    \n",
    "    # Компиляция модели\n",
    "    regressor.compile(optimizer=optimizer, loss=loss, metrics=[metrics])\n",
    "\n",
    "    return regressor\n",
    "\n",
    "\n",
    "def create_train_test_data(dataset, percent_train_data):\n",
    "    size = len(dataset)\n",
    "    target_idx = int((size / 100) * percent_train_data)\n",
    "\n",
    "    train = dataset[:target_idx]\n",
    "    test = dataset[target_idx:]\n",
    "\n",
    "    return train, test, target_idx\n",
    "\n",
    "\n",
    "def create_data(data, n_timesteps, n_forecast):\n",
    "    x_data = []\n",
    "    y_data = []\n",
    "\n",
    "    for i in range(len(data)-n_timesteps-n_forecast+1):\n",
    "        x_data.append(data[i:i+n_timesteps, 0])\n",
    "        y_data.append(data[i+n_timesteps:i+n_timesteps+n_forecast, 0])\n",
    "\n",
    "    x_data, y_data = np.array(x_data), np.array(y_data)\n",
    "    x_data = np.reshape(x_data, (x_data.shape[0], x_data.shape[1], 1))\n",
    "\n",
    "    return x_data, y_data"
   ]
  },
  {
   "cell_type": "code",
   "execution_count": 12,
   "metadata": {},
   "outputs": [],
   "source": [
    "# model_params = ParameterGrid({\"units\": [15, 30, 60, 90, 150],\n",
    "#                               \"n_timesteps\": [15, 30, 60],\n",
    "#                               \"optimizer\": ['adam', 'rmsprop', 'nadam'],\n",
    "#                               \"loss\": ['mean_absolute_error', 'mean_squared_error'],\n",
    "#                               \"epochs\" : [250],\n",
    "#                               \"batch_size\": [64]})"
   ]
  },
  {
   "cell_type": "code",
   "execution_count": 4,
   "metadata": {},
   "outputs": [],
   "source": [
    "model_params = ParameterGrid({\"units\": [15, 30, 60, 90, 150],\n",
    "                              \"n_timesteps\": [15, 30, 60],\n",
    "                              \"optimizer\": ['adam', 'rmsprop', 'nadam'],\n",
    "                              \"loss\": ['mean_absolute_error'],\n",
    "                              \"epochs\" : [500],\n",
    "                              \"batch_size\": [32]})"
   ]
  },
  {
   "cell_type": "code",
   "execution_count": 5,
   "metadata": {},
   "outputs": [],
   "source": [
    "scaler = MinMaxScaler(feature_range=(0,1))"
   ]
  },
  {
   "cell_type": "code",
   "execution_count": 6,
   "metadata": {},
   "outputs": [
    {
     "data": {
      "text/html": [
       "<div>\n",
       "<style scoped>\n",
       "    .dataframe tbody tr th:only-of-type {\n",
       "        vertical-align: middle;\n",
       "    }\n",
       "\n",
       "    .dataframe tbody tr th {\n",
       "        vertical-align: top;\n",
       "    }\n",
       "\n",
       "    .dataframe thead th {\n",
       "        text-align: right;\n",
       "    }\n",
       "</style>\n",
       "<table border=\"1\" class=\"dataframe\">\n",
       "  <thead>\n",
       "    <tr style=\"text-align: right;\">\n",
       "      <th></th>\n",
       "      <th>Среднняя t</th>\n",
       "      <th>Минимальная t</th>\n",
       "      <th>Максимальная t</th>\n",
       "      <th>Суточная сумма осадков</th>\n",
       "      <th>Глубина снега</th>\n",
       "      <th>Скорость ветра</th>\n",
       "      <th>Среднее давление hPa</th>\n",
       "      <th>Относительная влажность в %</th>\n",
       "    </tr>\n",
       "    <tr>\n",
       "      <th>time</th>\n",
       "      <th></th>\n",
       "      <th></th>\n",
       "      <th></th>\n",
       "      <th></th>\n",
       "      <th></th>\n",
       "      <th></th>\n",
       "      <th></th>\n",
       "      <th></th>\n",
       "    </tr>\n",
       "  </thead>\n",
       "  <tbody>\n",
       "    <tr>\n",
       "      <th>2019-05-24</th>\n",
       "      <td>13.6</td>\n",
       "      <td>8.9</td>\n",
       "      <td>17.5</td>\n",
       "      <td>0.0</td>\n",
       "      <td>0.0</td>\n",
       "      <td>4.7</td>\n",
       "      <td>1012.7</td>\n",
       "      <td>64.125</td>\n",
       "    </tr>\n",
       "    <tr>\n",
       "      <th>2019-05-25</th>\n",
       "      <td>15.6</td>\n",
       "      <td>11.8</td>\n",
       "      <td>18.9</td>\n",
       "      <td>0.3</td>\n",
       "      <td>0.0</td>\n",
       "      <td>4.6</td>\n",
       "      <td>1010.2</td>\n",
       "      <td>56.625</td>\n",
       "    </tr>\n",
       "    <tr>\n",
       "      <th>2019-05-26</th>\n",
       "      <td>18.1</td>\n",
       "      <td>14.3</td>\n",
       "      <td>23.6</td>\n",
       "      <td>0.0</td>\n",
       "      <td>0.0</td>\n",
       "      <td>2.4</td>\n",
       "      <td>1004.7</td>\n",
       "      <td>62.375</td>\n",
       "    </tr>\n",
       "    <tr>\n",
       "      <th>2019-05-27</th>\n",
       "      <td>16.7</td>\n",
       "      <td>12.5</td>\n",
       "      <td>21.2</td>\n",
       "      <td>0.0</td>\n",
       "      <td>0.0</td>\n",
       "      <td>4.7</td>\n",
       "      <td>1008.5</td>\n",
       "      <td>52.500</td>\n",
       "    </tr>\n",
       "    <tr>\n",
       "      <th>2019-05-28</th>\n",
       "      <td>22.0</td>\n",
       "      <td>15.9</td>\n",
       "      <td>28.4</td>\n",
       "      <td>0.0</td>\n",
       "      <td>0.0</td>\n",
       "      <td>2.9</td>\n",
       "      <td>1014.1</td>\n",
       "      <td>48.250</td>\n",
       "    </tr>\n",
       "  </tbody>\n",
       "</table>\n",
       "</div>"
      ],
      "text/plain": [
       "            Среднняя t  Минимальная t  Максимальная t  Суточная сумма осадков  \\\n",
       "time                                                                            \n",
       "2019-05-24        13.6            8.9            17.5                     0.0   \n",
       "2019-05-25        15.6           11.8            18.9                     0.3   \n",
       "2019-05-26        18.1           14.3            23.6                     0.0   \n",
       "2019-05-27        16.7           12.5            21.2                     0.0   \n",
       "2019-05-28        22.0           15.9            28.4                     0.0   \n",
       "\n",
       "            Глубина снега  Скорость ветра  Среднее давление hPa  \\\n",
       "time                                                              \n",
       "2019-05-24            0.0             4.7                1012.7   \n",
       "2019-05-25            0.0             4.6                1010.2   \n",
       "2019-05-26            0.0             2.4                1004.7   \n",
       "2019-05-27            0.0             4.7                1008.5   \n",
       "2019-05-28            0.0             2.9                1014.1   \n",
       "\n",
       "            Относительная влажность в %  \n",
       "time                                     \n",
       "2019-05-24                       64.125  \n",
       "2019-05-25                       56.625  \n",
       "2019-05-26                       62.375  \n",
       "2019-05-27                       52.500  \n",
       "2019-05-28                       48.250  "
      ]
     },
     "execution_count": 6,
     "metadata": {},
     "output_type": "execute_result"
    }
   ],
   "source": [
    "df = pd.read_csv('dataset_days.csv', sep=',', index_col=\"time\")\n",
    "df.head()"
   ]
  },
  {
   "cell_type": "code",
   "execution_count": 7,
   "metadata": {},
   "outputs": [],
   "source": [
    "temp = df.iloc[:,:1].values\n",
    "train, test, size = create_train_test_data(temp, 70)"
   ]
  },
  {
   "cell_type": "code",
   "execution_count": 8,
   "metadata": {},
   "outputs": [],
   "source": [
    "train_scal = scaler.fit_transform(train)\n",
    "test_scal = scaler.transform(test)"
   ]
  },
  {
   "cell_type": "code",
   "execution_count": 18,
   "metadata": {},
   "outputs": [],
   "source": [
    "# d = {\"params\": [],\n",
    "#      \"day1\": [],\n",
    "#      \"day2\": [],\n",
    "#      \"day3\": [],\n",
    "#      \"day4\": [],\n",
    "#      \"day5\": [],\n",
    "#      \"day6\": [],\n",
    "#      \"day7\": [],\n",
    "#      \"day8\": [],\n",
    "#      \"day9\": [],\n",
    "#      \"day10\": []}\n",
    "\n",
    "# df = pd.DataFrame(d)\n",
    "\n",
    "# df.to_csv('res_test_model.csv')"
   ]
  },
  {
   "cell_type": "code",
   "execution_count": 9,
   "metadata": {},
   "outputs": [],
   "source": [
    "dataset = pd.read_csv('res_test_model.csv', sep=',')"
   ]
  },
  {
   "cell_type": "code",
   "execution_count": 10,
   "metadata": {},
   "outputs": [
    {
     "data": {
      "text/html": [
       "<div>\n",
       "<style scoped>\n",
       "    .dataframe tbody tr th:only-of-type {\n",
       "        vertical-align: middle;\n",
       "    }\n",
       "\n",
       "    .dataframe tbody tr th {\n",
       "        vertical-align: top;\n",
       "    }\n",
       "\n",
       "    .dataframe thead th {\n",
       "        text-align: right;\n",
       "    }\n",
       "</style>\n",
       "<table border=\"1\" class=\"dataframe\">\n",
       "  <thead>\n",
       "    <tr style=\"text-align: right;\">\n",
       "      <th></th>\n",
       "      <th>params</th>\n",
       "      <th>day1</th>\n",
       "      <th>day2</th>\n",
       "      <th>day3</th>\n",
       "      <th>day4</th>\n",
       "      <th>day5</th>\n",
       "      <th>day6</th>\n",
       "      <th>day7</th>\n",
       "      <th>day8</th>\n",
       "      <th>day9</th>\n",
       "      <th>day10</th>\n",
       "    </tr>\n",
       "  </thead>\n",
       "  <tbody>\n",
       "    <tr>\n",
       "      <th>0</th>\n",
       "      <td>{'batch_size': 64, 'epochs': 250, 'loss': 'mea...</td>\n",
       "      <td>2.208369</td>\n",
       "      <td>3.012873</td>\n",
       "      <td>3.469074</td>\n",
       "      <td>3.681408</td>\n",
       "      <td>3.790077</td>\n",
       "      <td>3.967572</td>\n",
       "      <td>4.163516</td>\n",
       "      <td>4.344530</td>\n",
       "      <td>4.502006</td>\n",
       "      <td>4.648923</td>\n",
       "    </tr>\n",
       "    <tr>\n",
       "      <th>1</th>\n",
       "      <td>{'batch_size': 64, 'epochs': 500, 'loss': 'mea...</td>\n",
       "      <td>2.306652</td>\n",
       "      <td>3.098385</td>\n",
       "      <td>3.523147</td>\n",
       "      <td>3.719802</td>\n",
       "      <td>3.841857</td>\n",
       "      <td>3.979302</td>\n",
       "      <td>4.117654</td>\n",
       "      <td>4.265179</td>\n",
       "      <td>4.389103</td>\n",
       "      <td>4.537787</td>\n",
       "    </tr>\n",
       "    <tr>\n",
       "      <th>2</th>\n",
       "      <td>{'batch_size': 64, 'epochs': 250, 'loss': 'mea...</td>\n",
       "      <td>2.355383</td>\n",
       "      <td>3.169108</td>\n",
       "      <td>3.577043</td>\n",
       "      <td>3.785415</td>\n",
       "      <td>3.894658</td>\n",
       "      <td>4.068782</td>\n",
       "      <td>4.280042</td>\n",
       "      <td>4.464551</td>\n",
       "      <td>4.625480</td>\n",
       "      <td>4.755267</td>\n",
       "    </tr>\n",
       "    <tr>\n",
       "      <th>3</th>\n",
       "      <td>{'batch_size': 64, 'epochs': 500, 'loss': 'mea...</td>\n",
       "      <td>2.376186</td>\n",
       "      <td>3.120337</td>\n",
       "      <td>3.527182</td>\n",
       "      <td>3.780602</td>\n",
       "      <td>3.925304</td>\n",
       "      <td>4.153919</td>\n",
       "      <td>4.367965</td>\n",
       "      <td>4.543726</td>\n",
       "      <td>4.708529</td>\n",
       "      <td>4.813364</td>\n",
       "    </tr>\n",
       "    <tr>\n",
       "      <th>4</th>\n",
       "      <td>{'batch_size': 64, 'epochs': 250, 'loss': 'mea...</td>\n",
       "      <td>2.394197</td>\n",
       "      <td>3.202948</td>\n",
       "      <td>3.605310</td>\n",
       "      <td>3.816377</td>\n",
       "      <td>3.949121</td>\n",
       "      <td>4.130400</td>\n",
       "      <td>4.312463</td>\n",
       "      <td>4.462433</td>\n",
       "      <td>4.609981</td>\n",
       "      <td>4.769575</td>\n",
       "    </tr>\n",
       "    <tr>\n",
       "      <th>...</th>\n",
       "      <td>...</td>\n",
       "      <td>...</td>\n",
       "      <td>...</td>\n",
       "      <td>...</td>\n",
       "      <td>...</td>\n",
       "      <td>...</td>\n",
       "      <td>...</td>\n",
       "      <td>...</td>\n",
       "      <td>...</td>\n",
       "      <td>...</td>\n",
       "      <td>...</td>\n",
       "    </tr>\n",
       "    <tr>\n",
       "      <th>175</th>\n",
       "      <td>{'batch_size': 64, 'epochs': 500, 'loss': 'mea...</td>\n",
       "      <td>4.721040</td>\n",
       "      <td>4.955592</td>\n",
       "      <td>5.058608</td>\n",
       "      <td>5.024088</td>\n",
       "      <td>4.997010</td>\n",
       "      <td>5.164393</td>\n",
       "      <td>5.392358</td>\n",
       "      <td>5.600112</td>\n",
       "      <td>5.866277</td>\n",
       "      <td>6.051541</td>\n",
       "    </tr>\n",
       "    <tr>\n",
       "      <th>176</th>\n",
       "      <td>{'batch_size': 64, 'epochs': 500, 'loss': 'mea...</td>\n",
       "      <td>4.961529</td>\n",
       "      <td>4.820623</td>\n",
       "      <td>4.655858</td>\n",
       "      <td>4.726391</td>\n",
       "      <td>4.869909</td>\n",
       "      <td>5.047732</td>\n",
       "      <td>5.242114</td>\n",
       "      <td>5.502705</td>\n",
       "      <td>5.586183</td>\n",
       "      <td>5.527735</td>\n",
       "    </tr>\n",
       "    <tr>\n",
       "      <th>177</th>\n",
       "      <td>{'batch_size': 64, 'epochs': 500, 'loss': 'mea...</td>\n",
       "      <td>5.249108</td>\n",
       "      <td>5.457809</td>\n",
       "      <td>5.505164</td>\n",
       "      <td>5.519813</td>\n",
       "      <td>5.521354</td>\n",
       "      <td>5.614072</td>\n",
       "      <td>5.765991</td>\n",
       "      <td>5.915891</td>\n",
       "      <td>5.994523</td>\n",
       "      <td>6.010291</td>\n",
       "    </tr>\n",
       "    <tr>\n",
       "      <th>178</th>\n",
       "      <td>{'batch_size': 64, 'epochs': 500, 'loss': 'mea...</td>\n",
       "      <td>5.264601</td>\n",
       "      <td>5.381605</td>\n",
       "      <td>5.280178</td>\n",
       "      <td>5.227171</td>\n",
       "      <td>5.331639</td>\n",
       "      <td>5.568300</td>\n",
       "      <td>5.795400</td>\n",
       "      <td>5.928228</td>\n",
       "      <td>5.937462</td>\n",
       "      <td>5.921612</td>\n",
       "    </tr>\n",
       "    <tr>\n",
       "      <th>179</th>\n",
       "      <td>{'batch_size': 64, 'epochs': 500, 'loss': 'mea...</td>\n",
       "      <td>5.272865</td>\n",
       "      <td>5.377047</td>\n",
       "      <td>5.499375</td>\n",
       "      <td>5.563915</td>\n",
       "      <td>5.627801</td>\n",
       "      <td>5.695966</td>\n",
       "      <td>5.793273</td>\n",
       "      <td>5.917023</td>\n",
       "      <td>6.001399</td>\n",
       "      <td>6.097872</td>\n",
       "    </tr>\n",
       "  </tbody>\n",
       "</table>\n",
       "<p>180 rows × 11 columns</p>\n",
       "</div>"
      ],
      "text/plain": [
       "                                                params      day1      day2  \\\n",
       "0    {'batch_size': 64, 'epochs': 250, 'loss': 'mea...  2.208369  3.012873   \n",
       "1    {'batch_size': 64, 'epochs': 500, 'loss': 'mea...  2.306652  3.098385   \n",
       "2    {'batch_size': 64, 'epochs': 250, 'loss': 'mea...  2.355383  3.169108   \n",
       "3    {'batch_size': 64, 'epochs': 500, 'loss': 'mea...  2.376186  3.120337   \n",
       "4    {'batch_size': 64, 'epochs': 250, 'loss': 'mea...  2.394197  3.202948   \n",
       "..                                                 ...       ...       ...   \n",
       "175  {'batch_size': 64, 'epochs': 500, 'loss': 'mea...  4.721040  4.955592   \n",
       "176  {'batch_size': 64, 'epochs': 500, 'loss': 'mea...  4.961529  4.820623   \n",
       "177  {'batch_size': 64, 'epochs': 500, 'loss': 'mea...  5.249108  5.457809   \n",
       "178  {'batch_size': 64, 'epochs': 500, 'loss': 'mea...  5.264601  5.381605   \n",
       "179  {'batch_size': 64, 'epochs': 500, 'loss': 'mea...  5.272865  5.377047   \n",
       "\n",
       "         day3      day4      day5      day6      day7      day8      day9  \\\n",
       "0    3.469074  3.681408  3.790077  3.967572  4.163516  4.344530  4.502006   \n",
       "1    3.523147  3.719802  3.841857  3.979302  4.117654  4.265179  4.389103   \n",
       "2    3.577043  3.785415  3.894658  4.068782  4.280042  4.464551  4.625480   \n",
       "3    3.527182  3.780602  3.925304  4.153919  4.367965  4.543726  4.708529   \n",
       "4    3.605310  3.816377  3.949121  4.130400  4.312463  4.462433  4.609981   \n",
       "..        ...       ...       ...       ...       ...       ...       ...   \n",
       "175  5.058608  5.024088  4.997010  5.164393  5.392358  5.600112  5.866277   \n",
       "176  4.655858  4.726391  4.869909  5.047732  5.242114  5.502705  5.586183   \n",
       "177  5.505164  5.519813  5.521354  5.614072  5.765991  5.915891  5.994523   \n",
       "178  5.280178  5.227171  5.331639  5.568300  5.795400  5.928228  5.937462   \n",
       "179  5.499375  5.563915  5.627801  5.695966  5.793273  5.917023  6.001399   \n",
       "\n",
       "        day10  \n",
       "0    4.648923  \n",
       "1    4.537787  \n",
       "2    4.755267  \n",
       "3    4.813364  \n",
       "4    4.769575  \n",
       "..        ...  \n",
       "175  6.051541  \n",
       "176  5.527735  \n",
       "177  6.010291  \n",
       "178  5.921612  \n",
       "179  6.097872  \n",
       "\n",
       "[180 rows x 11 columns]"
      ]
     },
     "execution_count": 10,
     "metadata": {},
     "output_type": "execute_result"
    }
   ],
   "source": [
    "dataset"
   ]
  },
  {
   "cell_type": "code",
   "execution_count": 11,
   "metadata": {},
   "outputs": [
    {
     "name": "stderr",
     "output_type": "stream",
     "text": [
      "  0%|          | 0/45 [00:00<?, ?it/s]"
     ]
    },
    {
     "name": "stdout",
     "output_type": "stream",
     "text": [
      "\u001b[1m17/17\u001b[0m \u001b[32m━━━━━━━━━━━━━━━━━━━━\u001b[0m\u001b[37m\u001b[0m \u001b[1m1s\u001b[0m 39ms/step\n"
     ]
    },
    {
     "name": "stderr",
     "output_type": "stream",
     "text": [
      "  2%|▏         | 1/45 [03:00<2:12:43, 180.99s/it]"
     ]
    },
    {
     "name": "stdout",
     "output_type": "stream",
     "text": [
      "\u001b[1m17/17\u001b[0m \u001b[32m━━━━━━━━━━━━━━━━━━━━\u001b[0m\u001b[37m\u001b[0m \u001b[1m1s\u001b[0m 33ms/step\n"
     ]
    },
    {
     "name": "stderr",
     "output_type": "stream",
     "text": [
      "  4%|▍         | 2/45 [06:17<2:16:07, 189.95s/it]"
     ]
    },
    {
     "name": "stdout",
     "output_type": "stream",
     "text": [
      "\u001b[1m17/17\u001b[0m \u001b[32m━━━━━━━━━━━━━━━━━━━━\u001b[0m\u001b[37m\u001b[0m \u001b[1m1s\u001b[0m 34ms/step\n"
     ]
    },
    {
     "name": "stderr",
     "output_type": "stream",
     "text": [
      "  7%|▋         | 3/45 [10:19<2:29:44, 213.92s/it]"
     ]
    },
    {
     "name": "stdout",
     "output_type": "stream",
     "text": [
      "\u001b[1m17/17\u001b[0m \u001b[32m━━━━━━━━━━━━━━━━━━━━\u001b[0m\u001b[37m\u001b[0m \u001b[1m2s\u001b[0m 77ms/step\n"
     ]
    },
    {
     "name": "stderr",
     "output_type": "stream",
     "text": [
      "  9%|▉         | 4/45 [15:13<2:47:37, 245.30s/it]"
     ]
    },
    {
     "name": "stdout",
     "output_type": "stream",
     "text": [
      "\u001b[1m17/17\u001b[0m \u001b[32m━━━━━━━━━━━━━━━━━━━━\u001b[0m\u001b[37m\u001b[0m \u001b[1m1s\u001b[0m 38ms/step\n"
     ]
    },
    {
     "name": "stderr",
     "output_type": "stream",
     "text": [
      " 11%|█         | 5/45 [23:25<3:43:00, 334.51s/it]"
     ]
    },
    {
     "name": "stdout",
     "output_type": "stream",
     "text": [
      "\u001b[1m17/17\u001b[0m \u001b[32m━━━━━━━━━━━━━━━━━━━━\u001b[0m\u001b[37m\u001b[0m \u001b[1m2s\u001b[0m 53ms/step \n"
     ]
    },
    {
     "name": "stderr",
     "output_type": "stream",
     "text": [
      " 13%|█▎        | 6/45 [26:31<3:04:36, 284.01s/it]"
     ]
    },
    {
     "name": "stdout",
     "output_type": "stream",
     "text": [
      "\u001b[1m17/17\u001b[0m \u001b[32m━━━━━━━━━━━━━━━━━━━━\u001b[0m\u001b[37m\u001b[0m \u001b[1m1s\u001b[0m 32ms/step\n"
     ]
    },
    {
     "name": "stderr",
     "output_type": "stream",
     "text": [
      " 16%|█▌        | 7/45 [29:54<2:43:09, 257.61s/it]"
     ]
    },
    {
     "name": "stdout",
     "output_type": "stream",
     "text": [
      "\u001b[1m17/17\u001b[0m \u001b[32m━━━━━━━━━━━━━━━━━━━━\u001b[0m\u001b[37m\u001b[0m \u001b[1m1s\u001b[0m 33ms/step\n"
     ]
    },
    {
     "name": "stderr",
     "output_type": "stream",
     "text": [
      " 18%|█▊        | 8/45 [33:47<2:33:52, 249.53s/it]"
     ]
    },
    {
     "name": "stdout",
     "output_type": "stream",
     "text": [
      "\u001b[1m17/17\u001b[0m \u001b[32m━━━━━━━━━━━━━━━━━━━━\u001b[0m\u001b[37m\u001b[0m \u001b[1m1s\u001b[0m 39ms/step\n"
     ]
    },
    {
     "name": "stderr",
     "output_type": "stream",
     "text": [
      " 20%|██        | 9/45 [38:39<2:37:39, 262.77s/it]"
     ]
    },
    {
     "name": "stdout",
     "output_type": "stream",
     "text": [
      "\u001b[1m17/17\u001b[0m \u001b[32m━━━━━━━━━━━━━━━━━━━━\u001b[0m\u001b[37m\u001b[0m \u001b[1m1s\u001b[0m 37ms/step\n"
     ]
    },
    {
     "name": "stderr",
     "output_type": "stream",
     "text": [
      " 22%|██▏       | 10/45 [47:01<3:16:24, 336.71s/it]"
     ]
    },
    {
     "name": "stdout",
     "output_type": "stream",
     "text": [
      "\u001b[1m17/17\u001b[0m \u001b[32m━━━━━━━━━━━━━━━━━━━━\u001b[0m\u001b[37m\u001b[0m \u001b[1m1s\u001b[0m 33ms/step\n"
     ]
    },
    {
     "name": "stderr",
     "output_type": "stream",
     "text": [
      " 24%|██▍       | 11/45 [50:15<2:46:09, 293.22s/it]"
     ]
    },
    {
     "name": "stdout",
     "output_type": "stream",
     "text": [
      "\u001b[1m17/17\u001b[0m \u001b[32m━━━━━━━━━━━━━━━━━━━━\u001b[0m\u001b[37m\u001b[0m \u001b[1m1s\u001b[0m 37ms/step\n"
     ]
    },
    {
     "name": "stderr",
     "output_type": "stream",
     "text": [
      " 27%|██▋       | 12/45 [53:51<2:28:11, 269.45s/it]"
     ]
    },
    {
     "name": "stdout",
     "output_type": "stream",
     "text": [
      "\u001b[1m17/17\u001b[0m \u001b[32m━━━━━━━━━━━━━━━━━━━━\u001b[0m\u001b[37m\u001b[0m \u001b[1m1s\u001b[0m 37ms/step\n"
     ]
    },
    {
     "name": "stderr",
     "output_type": "stream",
     "text": [
      " 29%|██▉       | 13/45 [58:05<2:21:14, 264.83s/it]"
     ]
    },
    {
     "name": "stdout",
     "output_type": "stream",
     "text": [
      "\u001b[1m17/17\u001b[0m \u001b[32m━━━━━━━━━━━━━━━━━━━━\u001b[0m\u001b[37m\u001b[0m \u001b[1m2s\u001b[0m 53ms/step\n"
     ]
    },
    {
     "name": "stderr",
     "output_type": "stream",
     "text": [
      " 31%|███       | 14/45 [1:03:27<2:25:43, 282.05s/it]"
     ]
    },
    {
     "name": "stdout",
     "output_type": "stream",
     "text": [
      "\u001b[1m17/17\u001b[0m \u001b[32m━━━━━━━━━━━━━━━━━━━━\u001b[0m\u001b[37m\u001b[0m \u001b[1m1s\u001b[0m 43ms/step\n"
     ]
    },
    {
     "name": "stderr",
     "output_type": "stream",
     "text": [
      " 33%|███▎      | 15/45 [1:12:22<2:59:09, 358.30s/it]"
     ]
    },
    {
     "name": "stdout",
     "output_type": "stream",
     "text": [
      "\u001b[1m16/16\u001b[0m \u001b[32m━━━━━━━━━━━━━━━━━━━━\u001b[0m\u001b[37m\u001b[0m \u001b[1m1s\u001b[0m 5ms/step\n"
     ]
    },
    {
     "name": "stderr",
     "output_type": "stream",
     "text": [
      " 36%|███▌      | 16/45 [1:17:46<2:48:10, 347.94s/it]"
     ]
    },
    {
     "name": "stdout",
     "output_type": "stream",
     "text": [
      "\u001b[1m16/16\u001b[0m \u001b[32m━━━━━━━━━━━━━━━━━━━━\u001b[0m\u001b[37m\u001b[0m \u001b[1m1s\u001b[0m 6ms/step\n"
     ]
    },
    {
     "name": "stderr",
     "output_type": "stream",
     "text": [
      " 38%|███▊      | 17/45 [1:23:54<2:45:14, 354.09s/it]"
     ]
    },
    {
     "name": "stdout",
     "output_type": "stream",
     "text": [
      "\u001b[1m16/16\u001b[0m \u001b[32m━━━━━━━━━━━━━━━━━━━━\u001b[0m\u001b[37m\u001b[0m \u001b[1m1s\u001b[0m 8ms/step\n"
     ]
    },
    {
     "name": "stderr",
     "output_type": "stream",
     "text": [
      " 40%|████      | 18/45 [1:31:30<2:53:10, 384.82s/it]"
     ]
    },
    {
     "name": "stdout",
     "output_type": "stream",
     "text": [
      "\u001b[1m16/16\u001b[0m \u001b[32m━━━━━━━━━━━━━━━━━━━━\u001b[0m\u001b[37m\u001b[0m \u001b[1m1s\u001b[0m 11ms/step\n"
     ]
    },
    {
     "name": "stderr",
     "output_type": "stream",
     "text": [
      " 42%|████▏     | 19/45 [1:41:10<3:12:07, 443.35s/it]"
     ]
    },
    {
     "name": "stdout",
     "output_type": "stream",
     "text": [
      "\u001b[1m16/16\u001b[0m \u001b[32m━━━━━━━━━━━━━━━━━━━━\u001b[0m\u001b[37m\u001b[0m \u001b[1m1s\u001b[0m 17ms/step\n"
     ]
    },
    {
     "name": "stderr",
     "output_type": "stream",
     "text": [
      " 44%|████▍     | 20/45 [1:57:25<4:11:14, 602.97s/it]"
     ]
    },
    {
     "name": "stdout",
     "output_type": "stream",
     "text": [
      "\u001b[1m16/16\u001b[0m \u001b[32m━━━━━━━━━━━━━━━━━━━━\u001b[0m\u001b[37m\u001b[0m \u001b[1m1s\u001b[0m 5ms/step\n"
     ]
    },
    {
     "name": "stderr",
     "output_type": "stream",
     "text": [
      " 47%|████▋     | 21/45 [2:02:57<3:28:43, 521.79s/it]"
     ]
    },
    {
     "name": "stdout",
     "output_type": "stream",
     "text": [
      "\u001b[1m16/16\u001b[0m \u001b[32m━━━━━━━━━━━━━━━━━━━━\u001b[0m\u001b[37m\u001b[0m \u001b[1m1s\u001b[0m 5ms/step\n"
     ]
    },
    {
     "name": "stderr",
     "output_type": "stream",
     "text": [
      " 49%|████▉     | 22/45 [2:08:52<3:00:49, 471.74s/it]"
     ]
    },
    {
     "name": "stdout",
     "output_type": "stream",
     "text": [
      "\u001b[1m16/16\u001b[0m \u001b[32m━━━━━━━━━━━━━━━━━━━━\u001b[0m\u001b[37m\u001b[0m \u001b[1m1s\u001b[0m 7ms/step\n"
     ]
    },
    {
     "name": "stderr",
     "output_type": "stream",
     "text": [
      " 51%|█████     | 23/45 [2:16:05<2:48:40, 460.03s/it]"
     ]
    },
    {
     "name": "stdout",
     "output_type": "stream",
     "text": [
      "\u001b[1m16/16\u001b[0m \u001b[32m━━━━━━━━━━━━━━━━━━━━\u001b[0m\u001b[37m\u001b[0m \u001b[1m1s\u001b[0m 12ms/step\n"
     ]
    },
    {
     "name": "stderr",
     "output_type": "stream",
     "text": [
      " 53%|█████▎    | 24/45 [2:25:52<2:54:20, 498.12s/it]"
     ]
    },
    {
     "name": "stdout",
     "output_type": "stream",
     "text": [
      "\u001b[1m16/16\u001b[0m \u001b[32m━━━━━━━━━━━━━━━━━━━━\u001b[0m\u001b[37m\u001b[0m \u001b[1m1s\u001b[0m 16ms/step\n"
     ]
    },
    {
     "name": "stderr",
     "output_type": "stream",
     "text": [
      " 56%|█████▌    | 25/45 [2:41:23<3:29:17, 627.89s/it]"
     ]
    },
    {
     "name": "stdout",
     "output_type": "stream",
     "text": [
      "\u001b[1m16/16\u001b[0m \u001b[32m━━━━━━━━━━━━━━━━━━━━\u001b[0m\u001b[37m\u001b[0m \u001b[1m1s\u001b[0m 5ms/step\n"
     ]
    },
    {
     "name": "stderr",
     "output_type": "stream",
     "text": [
      " 58%|█████▊    | 26/45 [2:47:04<2:51:35, 541.89s/it]"
     ]
    },
    {
     "name": "stdout",
     "output_type": "stream",
     "text": [
      "\u001b[1m16/16\u001b[0m \u001b[32m━━━━━━━━━━━━━━━━━━━━\u001b[0m\u001b[37m\u001b[0m \u001b[1m1s\u001b[0m 8ms/step\n"
     ]
    },
    {
     "name": "stderr",
     "output_type": "stream",
     "text": [
      " 60%|██████    | 27/45 [2:53:13<2:27:00, 490.02s/it]"
     ]
    },
    {
     "name": "stdout",
     "output_type": "stream",
     "text": [
      "\u001b[1m16/16\u001b[0m \u001b[32m━━━━━━━━━━━━━━━━━━━━\u001b[0m\u001b[37m\u001b[0m \u001b[1m1s\u001b[0m 8ms/step\n"
     ]
    },
    {
     "name": "stderr",
     "output_type": "stream",
     "text": [
      " 62%|██████▏   | 28/45 [3:01:00<2:16:51, 483.04s/it]"
     ]
    },
    {
     "name": "stdout",
     "output_type": "stream",
     "text": [
      "\u001b[1m16/16\u001b[0m \u001b[32m━━━━━━━━━━━━━━━━━━━━\u001b[0m\u001b[37m\u001b[0m \u001b[1m1s\u001b[0m 11ms/step\n"
     ]
    },
    {
     "name": "stderr",
     "output_type": "stream",
     "text": [
      " 64%|██████▍   | 29/45 [3:10:41<2:16:39, 512.46s/it]"
     ]
    },
    {
     "name": "stdout",
     "output_type": "stream",
     "text": [
      "\u001b[1m16/16\u001b[0m \u001b[32m━━━━━━━━━━━━━━━━━━━━\u001b[0m\u001b[37m\u001b[0m \u001b[1m1s\u001b[0m 18ms/step\n"
     ]
    },
    {
     "name": "stderr",
     "output_type": "stream",
     "text": [
      " 67%|██████▋   | 30/45 [3:26:39<2:41:31, 646.09s/it]"
     ]
    },
    {
     "name": "stdout",
     "output_type": "stream",
     "text": [
      "\u001b[1m16/16\u001b[0m \u001b[32m━━━━━━━━━━━━━━━━━━━━\u001b[0m\u001b[37m\u001b[0m \u001b[1m1s\u001b[0m 41ms/step\n"
     ]
    },
    {
     "name": "stderr",
     "output_type": "stream",
     "text": [
      " 69%|██████▉   | 31/45 [3:36:04<2:25:05, 621.82s/it]"
     ]
    },
    {
     "name": "stdout",
     "output_type": "stream",
     "text": [
      "\u001b[1m16/16\u001b[0m \u001b[32m━━━━━━━━━━━━━━━━━━━━\u001b[0m\u001b[37m\u001b[0m \u001b[1m1s\u001b[0m 40ms/step\n"
     ]
    },
    {
     "name": "stderr",
     "output_type": "stream",
     "text": [
      " 71%|███████   | 32/45 [3:46:28<2:14:51, 622.46s/it]"
     ]
    },
    {
     "name": "stdout",
     "output_type": "stream",
     "text": [
      "\u001b[1m16/16\u001b[0m \u001b[32m━━━━━━━━━━━━━━━━━━━━\u001b[0m\u001b[37m\u001b[0m \u001b[1m1s\u001b[0m 44ms/step\n"
     ]
    },
    {
     "name": "stderr",
     "output_type": "stream",
     "text": [
      " 73%|███████▎  | 33/45 [3:59:13<2:13:04, 665.38s/it]"
     ]
    },
    {
     "name": "stdout",
     "output_type": "stream",
     "text": [
      "\u001b[1m16/16\u001b[0m \u001b[32m━━━━━━━━━━━━━━━━━━━━\u001b[0m\u001b[37m\u001b[0m \u001b[1m1s\u001b[0m 53ms/step\n"
     ]
    },
    {
     "name": "stderr",
     "output_type": "stream",
     "text": [
      " 76%|███████▌  | 34/45 [4:15:46<2:19:59, 763.59s/it]"
     ]
    },
    {
     "name": "stdout",
     "output_type": "stream",
     "text": [
      "\u001b[1m16/16\u001b[0m \u001b[32m━━━━━━━━━━━━━━━━━━━━\u001b[0m\u001b[37m\u001b[0m \u001b[1m1s\u001b[0m 57ms/step\n"
     ]
    },
    {
     "name": "stderr",
     "output_type": "stream",
     "text": [
      " 78%|███████▊  | 35/45 [4:44:39<2:55:43, 1054.36s/it]"
     ]
    },
    {
     "name": "stdout",
     "output_type": "stream",
     "text": [
      "\u001b[1m16/16\u001b[0m \u001b[32m━━━━━━━━━━━━━━━━━━━━\u001b[0m\u001b[37m\u001b[0m \u001b[1m1s\u001b[0m 39ms/step\n"
     ]
    },
    {
     "name": "stderr",
     "output_type": "stream",
     "text": [
      " 80%|████████  | 36/45 [4:53:46<2:15:20, 902.23s/it] "
     ]
    },
    {
     "name": "stdout",
     "output_type": "stream",
     "text": [
      "\u001b[1m16/16\u001b[0m \u001b[32m━━━━━━━━━━━━━━━━━━━━\u001b[0m\u001b[37m\u001b[0m \u001b[1m1s\u001b[0m 43ms/step\n"
     ]
    },
    {
     "name": "stderr",
     "output_type": "stream",
     "text": [
      " 82%|████████▏ | 37/45 [5:04:54<1:50:54, 831.84s/it]"
     ]
    },
    {
     "name": "stdout",
     "output_type": "stream",
     "text": [
      "\u001b[1m16/16\u001b[0m \u001b[32m━━━━━━━━━━━━━━━━━━━━\u001b[0m\u001b[37m\u001b[0m \u001b[1m1s\u001b[0m 45ms/step\n"
     ]
    },
    {
     "name": "stderr",
     "output_type": "stream",
     "text": [
      " 84%|████████▍ | 38/45 [5:18:18<1:36:05, 823.66s/it]"
     ]
    },
    {
     "name": "stdout",
     "output_type": "stream",
     "text": [
      "\u001b[1m16/16\u001b[0m \u001b[32m━━━━━━━━━━━━━━━━━━━━\u001b[0m\u001b[37m\u001b[0m \u001b[1m1s\u001b[0m 55ms/step\n"
     ]
    },
    {
     "name": "stderr",
     "output_type": "stream",
     "text": [
      " 87%|████████▋ | 39/45 [5:34:54<1:27:30, 875.16s/it]"
     ]
    },
    {
     "name": "stdout",
     "output_type": "stream",
     "text": [
      "\u001b[1m16/16\u001b[0m \u001b[32m━━━━━━━━━━━━━━━━━━━━\u001b[0m\u001b[37m\u001b[0m \u001b[1m1s\u001b[0m 58ms/step\n"
     ]
    },
    {
     "name": "stderr",
     "output_type": "stream",
     "text": [
      " 89%|████████▉ | 40/45 [6:03:47<1:34:23, 1132.64s/it]"
     ]
    },
    {
     "name": "stdout",
     "output_type": "stream",
     "text": [
      "\u001b[1m16/16\u001b[0m \u001b[32m━━━━━━━━━━━━━━━━━━━━\u001b[0m\u001b[37m\u001b[0m \u001b[1m1s\u001b[0m 40ms/step\n"
     ]
    },
    {
     "name": "stderr",
     "output_type": "stream",
     "text": [
      " 91%|█████████ | 41/45 [6:13:12<1:04:09, 962.33s/it] "
     ]
    },
    {
     "name": "stdout",
     "output_type": "stream",
     "text": [
      "\u001b[1m16/16\u001b[0m \u001b[32m━━━━━━━━━━━━━━━━━━━━\u001b[0m\u001b[37m\u001b[0m \u001b[1m1s\u001b[0m 41ms/step\n"
     ]
    },
    {
     "name": "stderr",
     "output_type": "stream",
     "text": [
      " 93%|█████████▎| 42/45 [6:23:28<42:54, 858.26s/it]  "
     ]
    },
    {
     "name": "stdout",
     "output_type": "stream",
     "text": [
      "\u001b[1m16/16\u001b[0m \u001b[32m━━━━━━━━━━━━━━━━━━━━\u001b[0m\u001b[37m\u001b[0m \u001b[1m1s\u001b[0m 44ms/step\n"
     ]
    },
    {
     "name": "stderr",
     "output_type": "stream",
     "text": [
      " 96%|█████████▌| 43/45 [6:36:25<27:47, 834.00s/it]"
     ]
    },
    {
     "name": "stdout",
     "output_type": "stream",
     "text": [
      "\u001b[1m16/16\u001b[0m \u001b[32m━━━━━━━━━━━━━━━━━━━━\u001b[0m\u001b[37m\u001b[0m \u001b[1m1s\u001b[0m 54ms/step\n"
     ]
    },
    {
     "name": "stderr",
     "output_type": "stream",
     "text": [
      " 98%|█████████▊| 44/45 [6:52:59<14:42, 882.15s/it]"
     ]
    },
    {
     "name": "stdout",
     "output_type": "stream",
     "text": [
      "\u001b[1m16/16\u001b[0m \u001b[32m━━━━━━━━━━━━━━━━━━━━\u001b[0m\u001b[37m\u001b[0m \u001b[1m1s\u001b[0m 55ms/step\n"
     ]
    },
    {
     "name": "stderr",
     "output_type": "stream",
     "text": [
      "100%|██████████| 45/45 [7:22:38<00:00, 590.20s/it] \n"
     ]
    }
   ],
   "source": [
    "for item in tqdm(model_params):\n",
    "\n",
    "    d = {\"params\": [],\n",
    "    \"day1\": [],\n",
    "    \"day2\": [],\n",
    "    \"day3\": [],\n",
    "    \"day4\": [],\n",
    "    \"day5\": [],\n",
    "    \"day6\": [],\n",
    "    \"day7\": [],\n",
    "    \"day8\": [],\n",
    "    \"day9\": [],\n",
    "    \"day10\": []}\n",
    "    \n",
    "    x_train, y_train = create_data(train_scal, item[\"n_timesteps\"], 10)\n",
    "    x_test, y_test = create_data(test_scal, item[\"n_timesteps\"], 10)\n",
    "    y_test = scaler.inverse_transform(y_test)\n",
    "\n",
    "    model = create_model(x_train=x_train,\n",
    "                        n_forecast=10,\n",
    "                        units=item[\"units\"],\n",
    "                        n_timesteps=item[\"n_timesteps\"],\n",
    "                        optimizer=item[\"optimizer\"],\n",
    "                        loss=item[\"loss\"])\n",
    "    \n",
    "    model.fit(x_train, y_train, epochs=item[\"epochs\"], batch_size=item[\"batch_size\"], verbose=0)\n",
    "\n",
    "    predict = model.predict(x_test)\n",
    "\n",
    "    predict = scaler.inverse_transform(predict)\n",
    "\n",
    "    d[\"params\"].append(item)\n",
    "    for i in range(10):  # 10 это n_forecast\n",
    "        mae_day = np.mean(np.abs(y_test[:, i] - predict[:, i]))\n",
    "        d[f\"day{i+1}\"].append(mae_day)\n",
    "\n",
    "    df_item = pd.DataFrame(d)\n",
    "    dataset = pd.concat([dataset, df_item], axis=0)\n",
    "    dataset_sort = dataset.sort_values(by=[\"day1\", \"day2\", \"day3\", \"day4\", \"day5\", \"day6\", \"day7\", \"day8\", \"day9\", \"day10\"])\n",
    "    dataset_sort.to_csv('res_test_model.csv', index=False)"
   ]
  },
  {
   "cell_type": "code",
   "execution_count": 37,
   "metadata": {},
   "outputs": [],
   "source": [
    "df = pd.DataFrame(d)"
   ]
  },
  {
   "cell_type": "code",
   "execution_count": 31,
   "metadata": {},
   "outputs": [],
   "source": [
    "dataset1 = pd.read_csv('res1_test_model.csv', sep=',')\n",
    "dataset2 = pd.read_csv('res2_test_model.csv', sep=',')"
   ]
  },
  {
   "cell_type": "code",
   "execution_count": 32,
   "metadata": {},
   "outputs": [],
   "source": [
    "dataset = pd.concat([dataset1, dataset2], axis=0, ignore_index=True)"
   ]
  },
  {
   "cell_type": "code",
   "execution_count": 33,
   "metadata": {},
   "outputs": [],
   "source": [
    "dataset_sort = dataset.sort_values(by=[\"day1\", \"day2\", \"day3\", \"day4\", \"day5\", \"day6\", \"day7\", \"day8\", \"day9\", \"day10\"])"
   ]
  },
  {
   "cell_type": "code",
   "execution_count": 34,
   "metadata": {},
   "outputs": [
    {
     "data": {
      "text/html": [
       "<div>\n",
       "<style scoped>\n",
       "    .dataframe tbody tr th:only-of-type {\n",
       "        vertical-align: middle;\n",
       "    }\n",
       "\n",
       "    .dataframe tbody tr th {\n",
       "        vertical-align: top;\n",
       "    }\n",
       "\n",
       "    .dataframe thead th {\n",
       "        text-align: right;\n",
       "    }\n",
       "</style>\n",
       "<table border=\"1\" class=\"dataframe\">\n",
       "  <thead>\n",
       "    <tr style=\"text-align: right;\">\n",
       "      <th></th>\n",
       "      <th>params</th>\n",
       "      <th>day1</th>\n",
       "      <th>day2</th>\n",
       "      <th>day3</th>\n",
       "      <th>day4</th>\n",
       "      <th>day5</th>\n",
       "      <th>day6</th>\n",
       "      <th>day7</th>\n",
       "      <th>day8</th>\n",
       "      <th>day9</th>\n",
       "      <th>day10</th>\n",
       "    </tr>\n",
       "  </thead>\n",
       "  <tbody>\n",
       "    <tr>\n",
       "      <th>225</th>\n",
       "      <td>{'batch_size': 32, 'epochs': 250, 'loss': 'mean_squared_error', 'n_timesteps': 15, 'optimizer': 'adam', 'units': 150}</td>\n",
       "      <td>2.063217</td>\n",
       "      <td>3.001082</td>\n",
       "      <td>3.503886</td>\n",
       "      <td>3.778379</td>\n",
       "      <td>3.896511</td>\n",
       "      <td>4.078947</td>\n",
       "      <td>4.257945</td>\n",
       "      <td>4.387245</td>\n",
       "      <td>4.549065</td>\n",
       "      <td>4.694083</td>\n",
       "    </tr>\n",
       "    <tr>\n",
       "      <th>226</th>\n",
       "      <td>{'batch_size': 32, 'epochs': 250, 'loss': 'mean_absolute_error', 'n_timesteps': 15, 'optimizer': 'adam', 'units': 150}</td>\n",
       "      <td>2.071695</td>\n",
       "      <td>3.028820</td>\n",
       "      <td>3.521742</td>\n",
       "      <td>3.761844</td>\n",
       "      <td>3.928155</td>\n",
       "      <td>4.131037</td>\n",
       "      <td>4.386280</td>\n",
       "      <td>4.545744</td>\n",
       "      <td>4.718516</td>\n",
       "      <td>4.883468</td>\n",
       "    </tr>\n",
       "    <tr>\n",
       "      <th>227</th>\n",
       "      <td>{'batch_size': 32, 'epochs': 250, 'loss': 'mean_absolute_error', 'n_timesteps': 15, 'optimizer': 'adam', 'units': 90}</td>\n",
       "      <td>2.193776</td>\n",
       "      <td>3.084165</td>\n",
       "      <td>3.611866</td>\n",
       "      <td>3.836648</td>\n",
       "      <td>3.948261</td>\n",
       "      <td>4.107571</td>\n",
       "      <td>4.275013</td>\n",
       "      <td>4.466022</td>\n",
       "      <td>4.582503</td>\n",
       "      <td>4.723937</td>\n",
       "    </tr>\n",
       "    <tr>\n",
       "      <th>228</th>\n",
       "      <td>{'batch_size': 32, 'epochs': 250, 'loss': 'mean_absolute_error', 'n_timesteps': 30, 'optimizer': 'rmsprop', 'units': 150}</td>\n",
       "      <td>2.202038</td>\n",
       "      <td>3.102282</td>\n",
       "      <td>3.579905</td>\n",
       "      <td>3.909900</td>\n",
       "      <td>4.127794</td>\n",
       "      <td>4.433159</td>\n",
       "      <td>4.645190</td>\n",
       "      <td>4.649112</td>\n",
       "      <td>4.773598</td>\n",
       "      <td>4.939092</td>\n",
       "    </tr>\n",
       "    <tr>\n",
       "      <th>0</th>\n",
       "      <td>{'batch_size': 64, 'epochs': 250, 'loss': 'mean_absolute_error', 'n_timesteps': 15, 'optimizer': 'adam', 'units': 150}</td>\n",
       "      <td>2.208369</td>\n",
       "      <td>3.012873</td>\n",
       "      <td>3.469074</td>\n",
       "      <td>3.681408</td>\n",
       "      <td>3.790077</td>\n",
       "      <td>3.967572</td>\n",
       "      <td>4.163516</td>\n",
       "      <td>4.344530</td>\n",
       "      <td>4.502006</td>\n",
       "      <td>4.648923</td>\n",
       "    </tr>\n",
       "    <tr>\n",
       "      <th>...</th>\n",
       "      <td>...</td>\n",
       "      <td>...</td>\n",
       "      <td>...</td>\n",
       "      <td>...</td>\n",
       "      <td>...</td>\n",
       "      <td>...</td>\n",
       "      <td>...</td>\n",
       "      <td>...</td>\n",
       "      <td>...</td>\n",
       "      <td>...</td>\n",
       "      <td>...</td>\n",
       "    </tr>\n",
       "    <tr>\n",
       "      <th>220</th>\n",
       "      <td>{'batch_size': 32, 'epochs': 500, 'loss': 'mean_absolute_error', 'n_timesteps': 60, 'optimizer': 'adam', 'units': 60}</td>\n",
       "      <td>5.256114</td>\n",
       "      <td>5.328359</td>\n",
       "      <td>5.352008</td>\n",
       "      <td>5.380953</td>\n",
       "      <td>5.403206</td>\n",
       "      <td>5.453575</td>\n",
       "      <td>5.536617</td>\n",
       "      <td>5.608854</td>\n",
       "      <td>5.621505</td>\n",
       "      <td>5.628371</td>\n",
       "    </tr>\n",
       "    <tr>\n",
       "      <th>221</th>\n",
       "      <td>{'batch_size': 64, 'epochs': 500, 'loss': 'mean_squared_error', 'n_timesteps': 60, 'optimizer': 'nadam', 'units': 90}</td>\n",
       "      <td>5.264601</td>\n",
       "      <td>5.381605</td>\n",
       "      <td>5.280178</td>\n",
       "      <td>5.227171</td>\n",
       "      <td>5.331639</td>\n",
       "      <td>5.568300</td>\n",
       "      <td>5.795400</td>\n",
       "      <td>5.928228</td>\n",
       "      <td>5.937462</td>\n",
       "      <td>5.921612</td>\n",
       "    </tr>\n",
       "    <tr>\n",
       "      <th>222</th>\n",
       "      <td>{'batch_size': 64, 'epochs': 500, 'loss': 'mean_absolute_error', 'n_timesteps': 60, 'optimizer': 'nadam', 'units': 60}</td>\n",
       "      <td>5.272865</td>\n",
       "      <td>5.377047</td>\n",
       "      <td>5.499375</td>\n",
       "      <td>5.563915</td>\n",
       "      <td>5.627801</td>\n",
       "      <td>5.695966</td>\n",
       "      <td>5.793273</td>\n",
       "      <td>5.917023</td>\n",
       "      <td>6.001399</td>\n",
       "      <td>6.097872</td>\n",
       "    </tr>\n",
       "    <tr>\n",
       "      <th>223</th>\n",
       "      <td>{'batch_size': 32, 'epochs': 500, 'loss': 'mean_absolute_error', 'n_timesteps': 60, 'optimizer': 'nadam', 'units': 60}</td>\n",
       "      <td>5.403487</td>\n",
       "      <td>5.457704</td>\n",
       "      <td>5.490883</td>\n",
       "      <td>5.527911</td>\n",
       "      <td>5.628851</td>\n",
       "      <td>5.783785</td>\n",
       "      <td>5.753048</td>\n",
       "      <td>5.799045</td>\n",
       "      <td>5.952174</td>\n",
       "      <td>5.990982</td>\n",
       "    </tr>\n",
       "    <tr>\n",
       "      <th>224</th>\n",
       "      <td>{'batch_size': 32, 'epochs': 500, 'loss': 'mean_absolute_error', 'n_timesteps': 60, 'optimizer': 'nadam', 'units': 30}</td>\n",
       "      <td>5.762303</td>\n",
       "      <td>5.976870</td>\n",
       "      <td>6.120707</td>\n",
       "      <td>6.183150</td>\n",
       "      <td>6.233161</td>\n",
       "      <td>6.207814</td>\n",
       "      <td>6.365477</td>\n",
       "      <td>6.413400</td>\n",
       "      <td>6.447258</td>\n",
       "      <td>6.383229</td>\n",
       "    </tr>\n",
       "  </tbody>\n",
       "</table>\n",
       "<p>570 rows × 11 columns</p>\n",
       "</div>"
      ],
      "text/plain": [
       "                                                                                                                        params  \\\n",
       "225      {'batch_size': 32, 'epochs': 250, 'loss': 'mean_squared_error', 'n_timesteps': 15, 'optimizer': 'adam', 'units': 150}   \n",
       "226     {'batch_size': 32, 'epochs': 250, 'loss': 'mean_absolute_error', 'n_timesteps': 15, 'optimizer': 'adam', 'units': 150}   \n",
       "227      {'batch_size': 32, 'epochs': 250, 'loss': 'mean_absolute_error', 'n_timesteps': 15, 'optimizer': 'adam', 'units': 90}   \n",
       "228  {'batch_size': 32, 'epochs': 250, 'loss': 'mean_absolute_error', 'n_timesteps': 30, 'optimizer': 'rmsprop', 'units': 150}   \n",
       "0       {'batch_size': 64, 'epochs': 250, 'loss': 'mean_absolute_error', 'n_timesteps': 15, 'optimizer': 'adam', 'units': 150}   \n",
       "..                                                                                                                         ...   \n",
       "220      {'batch_size': 32, 'epochs': 500, 'loss': 'mean_absolute_error', 'n_timesteps': 60, 'optimizer': 'adam', 'units': 60}   \n",
       "221      {'batch_size': 64, 'epochs': 500, 'loss': 'mean_squared_error', 'n_timesteps': 60, 'optimizer': 'nadam', 'units': 90}   \n",
       "222     {'batch_size': 64, 'epochs': 500, 'loss': 'mean_absolute_error', 'n_timesteps': 60, 'optimizer': 'nadam', 'units': 60}   \n",
       "223     {'batch_size': 32, 'epochs': 500, 'loss': 'mean_absolute_error', 'n_timesteps': 60, 'optimizer': 'nadam', 'units': 60}   \n",
       "224     {'batch_size': 32, 'epochs': 500, 'loss': 'mean_absolute_error', 'n_timesteps': 60, 'optimizer': 'nadam', 'units': 30}   \n",
       "\n",
       "         day1      day2      day3      day4      day5      day6      day7  \\\n",
       "225  2.063217  3.001082  3.503886  3.778379  3.896511  4.078947  4.257945   \n",
       "226  2.071695  3.028820  3.521742  3.761844  3.928155  4.131037  4.386280   \n",
       "227  2.193776  3.084165  3.611866  3.836648  3.948261  4.107571  4.275013   \n",
       "228  2.202038  3.102282  3.579905  3.909900  4.127794  4.433159  4.645190   \n",
       "0    2.208369  3.012873  3.469074  3.681408  3.790077  3.967572  4.163516   \n",
       "..        ...       ...       ...       ...       ...       ...       ...   \n",
       "220  5.256114  5.328359  5.352008  5.380953  5.403206  5.453575  5.536617   \n",
       "221  5.264601  5.381605  5.280178  5.227171  5.331639  5.568300  5.795400   \n",
       "222  5.272865  5.377047  5.499375  5.563915  5.627801  5.695966  5.793273   \n",
       "223  5.403487  5.457704  5.490883  5.527911  5.628851  5.783785  5.753048   \n",
       "224  5.762303  5.976870  6.120707  6.183150  6.233161  6.207814  6.365477   \n",
       "\n",
       "         day8      day9     day10  \n",
       "225  4.387245  4.549065  4.694083  \n",
       "226  4.545744  4.718516  4.883468  \n",
       "227  4.466022  4.582503  4.723937  \n",
       "228  4.649112  4.773598  4.939092  \n",
       "0    4.344530  4.502006  4.648923  \n",
       "..        ...       ...       ...  \n",
       "220  5.608854  5.621505  5.628371  \n",
       "221  5.928228  5.937462  5.921612  \n",
       "222  5.917023  6.001399  6.097872  \n",
       "223  5.799045  5.952174  5.990982  \n",
       "224  6.413400  6.447258  6.383229  \n",
       "\n",
       "[570 rows x 11 columns]"
      ]
     },
     "execution_count": 34,
     "metadata": {},
     "output_type": "execute_result"
    }
   ],
   "source": [
    "dataset_sort"
   ]
  },
  {
   "cell_type": "code",
   "execution_count": 35,
   "metadata": {},
   "outputs": [],
   "source": [
    "dataset_sort['mean'] = dataset_sort[['day1', 'day2', 'day3', 'day4', 'day5', 'day6', 'day7', 'day8', 'day9',\n",
    "       'day10']].mean(axis=1)"
   ]
  },
  {
   "cell_type": "code",
   "execution_count": 36,
   "metadata": {},
   "outputs": [
    {
     "data": {
      "text/html": [
       "<div>\n",
       "<style scoped>\n",
       "    .dataframe tbody tr th:only-of-type {\n",
       "        vertical-align: middle;\n",
       "    }\n",
       "\n",
       "    .dataframe tbody tr th {\n",
       "        vertical-align: top;\n",
       "    }\n",
       "\n",
       "    .dataframe thead th {\n",
       "        text-align: right;\n",
       "    }\n",
       "</style>\n",
       "<table border=\"1\" class=\"dataframe\">\n",
       "  <thead>\n",
       "    <tr style=\"text-align: right;\">\n",
       "      <th></th>\n",
       "      <th>params</th>\n",
       "      <th>day1</th>\n",
       "      <th>day2</th>\n",
       "      <th>day3</th>\n",
       "      <th>day4</th>\n",
       "      <th>day5</th>\n",
       "      <th>day6</th>\n",
       "      <th>day7</th>\n",
       "      <th>day8</th>\n",
       "      <th>day9</th>\n",
       "      <th>day10</th>\n",
       "      <th>mean</th>\n",
       "    </tr>\n",
       "  </thead>\n",
       "  <tbody>\n",
       "    <tr>\n",
       "      <th>225</th>\n",
       "      <td>{'batch_size': 32, 'epochs': 250, 'loss': 'mean_squared_error', 'n_timesteps': 15, 'optimizer': 'adam', 'units': 150}</td>\n",
       "      <td>2.063217</td>\n",
       "      <td>3.001082</td>\n",
       "      <td>3.503886</td>\n",
       "      <td>3.778379</td>\n",
       "      <td>3.896511</td>\n",
       "      <td>4.078947</td>\n",
       "      <td>4.257945</td>\n",
       "      <td>4.387245</td>\n",
       "      <td>4.549065</td>\n",
       "      <td>4.694083</td>\n",
       "      <td>3.821036</td>\n",
       "    </tr>\n",
       "    <tr>\n",
       "      <th>226</th>\n",
       "      <td>{'batch_size': 32, 'epochs': 250, 'loss': 'mean_absolute_error', 'n_timesteps': 15, 'optimizer': 'adam', 'units': 150}</td>\n",
       "      <td>2.071695</td>\n",
       "      <td>3.028820</td>\n",
       "      <td>3.521742</td>\n",
       "      <td>3.761844</td>\n",
       "      <td>3.928155</td>\n",
       "      <td>4.131037</td>\n",
       "      <td>4.386280</td>\n",
       "      <td>4.545744</td>\n",
       "      <td>4.718516</td>\n",
       "      <td>4.883468</td>\n",
       "      <td>3.897730</td>\n",
       "    </tr>\n",
       "    <tr>\n",
       "      <th>227</th>\n",
       "      <td>{'batch_size': 32, 'epochs': 250, 'loss': 'mean_absolute_error', 'n_timesteps': 15, 'optimizer': 'adam', 'units': 90}</td>\n",
       "      <td>2.193776</td>\n",
       "      <td>3.084165</td>\n",
       "      <td>3.611866</td>\n",
       "      <td>3.836648</td>\n",
       "      <td>3.948261</td>\n",
       "      <td>4.107571</td>\n",
       "      <td>4.275013</td>\n",
       "      <td>4.466022</td>\n",
       "      <td>4.582503</td>\n",
       "      <td>4.723937</td>\n",
       "      <td>3.882976</td>\n",
       "    </tr>\n",
       "    <tr>\n",
       "      <th>228</th>\n",
       "      <td>{'batch_size': 32, 'epochs': 250, 'loss': 'mean_absolute_error', 'n_timesteps': 30, 'optimizer': 'rmsprop', 'units': 150}</td>\n",
       "      <td>2.202038</td>\n",
       "      <td>3.102282</td>\n",
       "      <td>3.579905</td>\n",
       "      <td>3.909900</td>\n",
       "      <td>4.127794</td>\n",
       "      <td>4.433159</td>\n",
       "      <td>4.645190</td>\n",
       "      <td>4.649112</td>\n",
       "      <td>4.773598</td>\n",
       "      <td>4.939092</td>\n",
       "      <td>4.036207</td>\n",
       "    </tr>\n",
       "    <tr>\n",
       "      <th>0</th>\n",
       "      <td>{'batch_size': 64, 'epochs': 250, 'loss': 'mean_absolute_error', 'n_timesteps': 15, 'optimizer': 'adam', 'units': 150}</td>\n",
       "      <td>2.208369</td>\n",
       "      <td>3.012873</td>\n",
       "      <td>3.469074</td>\n",
       "      <td>3.681408</td>\n",
       "      <td>3.790077</td>\n",
       "      <td>3.967572</td>\n",
       "      <td>4.163516</td>\n",
       "      <td>4.344530</td>\n",
       "      <td>4.502006</td>\n",
       "      <td>4.648923</td>\n",
       "      <td>3.778835</td>\n",
       "    </tr>\n",
       "    <tr>\n",
       "      <th>...</th>\n",
       "      <td>...</td>\n",
       "      <td>...</td>\n",
       "      <td>...</td>\n",
       "      <td>...</td>\n",
       "      <td>...</td>\n",
       "      <td>...</td>\n",
       "      <td>...</td>\n",
       "      <td>...</td>\n",
       "      <td>...</td>\n",
       "      <td>...</td>\n",
       "      <td>...</td>\n",
       "      <td>...</td>\n",
       "    </tr>\n",
       "    <tr>\n",
       "      <th>220</th>\n",
       "      <td>{'batch_size': 32, 'epochs': 500, 'loss': 'mean_absolute_error', 'n_timesteps': 60, 'optimizer': 'adam', 'units': 60}</td>\n",
       "      <td>5.256114</td>\n",
       "      <td>5.328359</td>\n",
       "      <td>5.352008</td>\n",
       "      <td>5.380953</td>\n",
       "      <td>5.403206</td>\n",
       "      <td>5.453575</td>\n",
       "      <td>5.536617</td>\n",
       "      <td>5.608854</td>\n",
       "      <td>5.621505</td>\n",
       "      <td>5.628371</td>\n",
       "      <td>5.456956</td>\n",
       "    </tr>\n",
       "    <tr>\n",
       "      <th>221</th>\n",
       "      <td>{'batch_size': 64, 'epochs': 500, 'loss': 'mean_squared_error', 'n_timesteps': 60, 'optimizer': 'nadam', 'units': 90}</td>\n",
       "      <td>5.264601</td>\n",
       "      <td>5.381605</td>\n",
       "      <td>5.280178</td>\n",
       "      <td>5.227171</td>\n",
       "      <td>5.331639</td>\n",
       "      <td>5.568300</td>\n",
       "      <td>5.795400</td>\n",
       "      <td>5.928228</td>\n",
       "      <td>5.937462</td>\n",
       "      <td>5.921612</td>\n",
       "      <td>5.563620</td>\n",
       "    </tr>\n",
       "    <tr>\n",
       "      <th>222</th>\n",
       "      <td>{'batch_size': 64, 'epochs': 500, 'loss': 'mean_absolute_error', 'n_timesteps': 60, 'optimizer': 'nadam', 'units': 60}</td>\n",
       "      <td>5.272865</td>\n",
       "      <td>5.377047</td>\n",
       "      <td>5.499375</td>\n",
       "      <td>5.563915</td>\n",
       "      <td>5.627801</td>\n",
       "      <td>5.695966</td>\n",
       "      <td>5.793273</td>\n",
       "      <td>5.917023</td>\n",
       "      <td>6.001399</td>\n",
       "      <td>6.097872</td>\n",
       "      <td>5.684653</td>\n",
       "    </tr>\n",
       "    <tr>\n",
       "      <th>223</th>\n",
       "      <td>{'batch_size': 32, 'epochs': 500, 'loss': 'mean_absolute_error', 'n_timesteps': 60, 'optimizer': 'nadam', 'units': 60}</td>\n",
       "      <td>5.403487</td>\n",
       "      <td>5.457704</td>\n",
       "      <td>5.490883</td>\n",
       "      <td>5.527911</td>\n",
       "      <td>5.628851</td>\n",
       "      <td>5.783785</td>\n",
       "      <td>5.753048</td>\n",
       "      <td>5.799045</td>\n",
       "      <td>5.952174</td>\n",
       "      <td>5.990982</td>\n",
       "      <td>5.678787</td>\n",
       "    </tr>\n",
       "    <tr>\n",
       "      <th>224</th>\n",
       "      <td>{'batch_size': 32, 'epochs': 500, 'loss': 'mean_absolute_error', 'n_timesteps': 60, 'optimizer': 'nadam', 'units': 30}</td>\n",
       "      <td>5.762303</td>\n",
       "      <td>5.976870</td>\n",
       "      <td>6.120707</td>\n",
       "      <td>6.183150</td>\n",
       "      <td>6.233161</td>\n",
       "      <td>6.207814</td>\n",
       "      <td>6.365477</td>\n",
       "      <td>6.413400</td>\n",
       "      <td>6.447258</td>\n",
       "      <td>6.383229</td>\n",
       "      <td>6.209337</td>\n",
       "    </tr>\n",
       "  </tbody>\n",
       "</table>\n",
       "<p>570 rows × 12 columns</p>\n",
       "</div>"
      ],
      "text/plain": [
       "                                                                                                                        params  \\\n",
       "225      {'batch_size': 32, 'epochs': 250, 'loss': 'mean_squared_error', 'n_timesteps': 15, 'optimizer': 'adam', 'units': 150}   \n",
       "226     {'batch_size': 32, 'epochs': 250, 'loss': 'mean_absolute_error', 'n_timesteps': 15, 'optimizer': 'adam', 'units': 150}   \n",
       "227      {'batch_size': 32, 'epochs': 250, 'loss': 'mean_absolute_error', 'n_timesteps': 15, 'optimizer': 'adam', 'units': 90}   \n",
       "228  {'batch_size': 32, 'epochs': 250, 'loss': 'mean_absolute_error', 'n_timesteps': 30, 'optimizer': 'rmsprop', 'units': 150}   \n",
       "0       {'batch_size': 64, 'epochs': 250, 'loss': 'mean_absolute_error', 'n_timesteps': 15, 'optimizer': 'adam', 'units': 150}   \n",
       "..                                                                                                                         ...   \n",
       "220      {'batch_size': 32, 'epochs': 500, 'loss': 'mean_absolute_error', 'n_timesteps': 60, 'optimizer': 'adam', 'units': 60}   \n",
       "221      {'batch_size': 64, 'epochs': 500, 'loss': 'mean_squared_error', 'n_timesteps': 60, 'optimizer': 'nadam', 'units': 90}   \n",
       "222     {'batch_size': 64, 'epochs': 500, 'loss': 'mean_absolute_error', 'n_timesteps': 60, 'optimizer': 'nadam', 'units': 60}   \n",
       "223     {'batch_size': 32, 'epochs': 500, 'loss': 'mean_absolute_error', 'n_timesteps': 60, 'optimizer': 'nadam', 'units': 60}   \n",
       "224     {'batch_size': 32, 'epochs': 500, 'loss': 'mean_absolute_error', 'n_timesteps': 60, 'optimizer': 'nadam', 'units': 30}   \n",
       "\n",
       "         day1      day2      day3      day4      day5      day6      day7  \\\n",
       "225  2.063217  3.001082  3.503886  3.778379  3.896511  4.078947  4.257945   \n",
       "226  2.071695  3.028820  3.521742  3.761844  3.928155  4.131037  4.386280   \n",
       "227  2.193776  3.084165  3.611866  3.836648  3.948261  4.107571  4.275013   \n",
       "228  2.202038  3.102282  3.579905  3.909900  4.127794  4.433159  4.645190   \n",
       "0    2.208369  3.012873  3.469074  3.681408  3.790077  3.967572  4.163516   \n",
       "..        ...       ...       ...       ...       ...       ...       ...   \n",
       "220  5.256114  5.328359  5.352008  5.380953  5.403206  5.453575  5.536617   \n",
       "221  5.264601  5.381605  5.280178  5.227171  5.331639  5.568300  5.795400   \n",
       "222  5.272865  5.377047  5.499375  5.563915  5.627801  5.695966  5.793273   \n",
       "223  5.403487  5.457704  5.490883  5.527911  5.628851  5.783785  5.753048   \n",
       "224  5.762303  5.976870  6.120707  6.183150  6.233161  6.207814  6.365477   \n",
       "\n",
       "         day8      day9     day10      mean  \n",
       "225  4.387245  4.549065  4.694083  3.821036  \n",
       "226  4.545744  4.718516  4.883468  3.897730  \n",
       "227  4.466022  4.582503  4.723937  3.882976  \n",
       "228  4.649112  4.773598  4.939092  4.036207  \n",
       "0    4.344530  4.502006  4.648923  3.778835  \n",
       "..        ...       ...       ...       ...  \n",
       "220  5.608854  5.621505  5.628371  5.456956  \n",
       "221  5.928228  5.937462  5.921612  5.563620  \n",
       "222  5.917023  6.001399  6.097872  5.684653  \n",
       "223  5.799045  5.952174  5.990982  5.678787  \n",
       "224  6.413400  6.447258  6.383229  6.209337  \n",
       "\n",
       "[570 rows x 12 columns]"
      ]
     },
     "execution_count": 36,
     "metadata": {},
     "output_type": "execute_result"
    }
   ],
   "source": [
    "dataset_sort"
   ]
  },
  {
   "cell_type": "code",
   "execution_count": 37,
   "metadata": {},
   "outputs": [],
   "source": [
    "dataset_sort.to_csv(\"res_test_model.csv\", index=False)"
   ]
  },
  {
   "cell_type": "code",
   "execution_count": null,
   "metadata": {},
   "outputs": [],
   "source": []
  }
 ],
 "metadata": {
  "kernelspec": {
   "display_name": "base",
   "language": "python",
   "name": "python3"
  },
  "language_info": {
   "codemirror_mode": {
    "name": "ipython",
    "version": 3
   },
   "file_extension": ".py",
   "mimetype": "text/x-python",
   "name": "python",
   "nbconvert_exporter": "python",
   "pygments_lexer": "ipython3",
   "version": "3.11.9"
  }
 },
 "nbformat": 4,
 "nbformat_minor": 2
}
